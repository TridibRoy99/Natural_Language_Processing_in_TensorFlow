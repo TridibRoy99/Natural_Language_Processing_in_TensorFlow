{
  "nbformat": 4,
  "nbformat_minor": 0,
  "metadata": {
    "accelerator": "GPU",
    "colab": {
      "name": "C3_W4_Assignment_Solution.ipynb",
      "provenance": [],
      "collapsed_sections": [],
      "toc_visible": true
    },
    "kernelspec": {
      "name": "python3",
      "display_name": "Python 3"
    },
    "language_info": {
      "name": "python"
    }
  },
  "cells": [
    {
      "cell_type": "code",
      "metadata": {
        "id": "zX4Kg8DUTKWO"
      },
      "source": [
        "#@title Licensed under the Apache License, Version 2.0 (the \"License\");\n",
        "# you may not use this file except in compliance with the License.\n",
        "# You may obtain a copy of the License at\n",
        "#\n",
        "# https://www.apache.org/licenses/LICENSE-2.0\n",
        "#\n",
        "# Unless required by applicable law or agreed to in writing, software\n",
        "# distributed under the License is distributed on an \"AS IS\" BASIS,\n",
        "# WITHOUT WARRANTIES OR CONDITIONS OF ANY KIND, either express or implied.\n",
        "# See the License for the specific language governing permissions and\n",
        "# limitations under the License."
      ],
      "execution_count": null,
      "outputs": []
    },
    {
      "cell_type": "markdown",
      "metadata": {
        "id": "NeQByOlMmtn8"
      },
      "source": [
        "**Note:** This notebook can run using TensorFlow 2.5.0"
      ]
    },
    {
      "cell_type": "code",
      "metadata": {
        "id": "QtWdoQT_mtn8"
      },
      "source": [
        "#!pip install tensorflow==2.5.0"
      ],
      "execution_count": null,
      "outputs": []
    },
    {
      "cell_type": "code",
      "metadata": {
        "id": "BOwsuGQQY9OL"
      },
      "source": [
        "from tensorflow.keras.preprocessing.sequence import pad_sequences\n",
        "from tensorflow.keras.layers import Embedding, LSTM, Dense, Dropout, Bidirectional\n",
        "from tensorflow.keras.preprocessing.text import Tokenizer\n",
        "from tensorflow.keras.models import Sequential\n",
        "from tensorflow.keras.optimizers import Adam\n",
        "from tensorflow.keras import regularizers\n",
        "import tensorflow.keras.utils as ku \n",
        "import numpy as np "
      ],
      "execution_count": 1,
      "outputs": []
    },
    {
      "cell_type": "code",
      "metadata": {
        "id": "PRnDnCW-Z7qv",
        "outputId": "a66bfce0-e143-4291-8c6b-bff475f2fcc3",
        "colab": {
          "base_uri": "https://localhost:8080/"
        }
      },
      "source": [
        "tokenizer = Tokenizer()\n",
        "\n",
        "# sonnets.txt\n",
        "!gdown --id 108jAePKK4R3BVYBbYJZ32JWUwxeMg20K\n",
        "\n",
        "data = open('./sonnets.txt').read()\n",
        "\n",
        "corpus = data.lower().split(\"\\n\")\n",
        "\n",
        "\n",
        "tokenizer.fit_on_texts(corpus)\n",
        "total_words = len(tokenizer.word_index) + 1\n",
        "\n",
        "# create input sequences using list of tokens\n",
        "input_sequences = []\n",
        "for line in corpus:\n",
        "\ttoken_list = tokenizer.texts_to_sequences([line])[0]\n",
        "\tfor i in range(1, len(token_list)):\n",
        "\t\tn_gram_sequence = token_list[:i+1]\n",
        "\t\tinput_sequences.append(n_gram_sequence)\n",
        "\n",
        "\n",
        "# pad sequences \n",
        "max_sequence_len = max([len(x) for x in input_sequences])\n",
        "input_sequences = np.array(pad_sequences(input_sequences, maxlen=max_sequence_len, padding='pre'))\n",
        "\n",
        "# create predictors and label\n",
        "predictors, label = input_sequences[:,:-1],input_sequences[:,-1]\n",
        "\n",
        "label = ku.to_categorical(label, num_classes=total_words)"
      ],
      "execution_count": 2,
      "outputs": [
        {
          "output_type": "stream",
          "name": "stdout",
          "text": [
            "Downloading...\n",
            "From: https://drive.google.com/uc?id=108jAePKK4R3BVYBbYJZ32JWUwxeMg20K\n",
            "To: /content/sonnets.txt\n",
            "\r  0% 0.00/93.6k [00:00<?, ?B/s]\r100% 93.6k/93.6k [00:00<00:00, 48.4MB/s]\n"
          ]
        }
      ]
    },
    {
      "cell_type": "code",
      "metadata": {
        "id": "w9vH8Y59ajYL",
        "outputId": "2b557696-33ab-4f3f-8f08-9020cf78a495",
        "colab": {
          "base_uri": "https://localhost:8080/"
        }
      },
      "source": [
        "### START CODE HERE\n",
        "model = Sequential()\n",
        "model.add(Embedding(total_words, 100, input_length=max_sequence_len-1))# Your Embedding Layer)\n",
        "model.add(Bidirectional(LSTM(150, return_sequences = True)))# An LSTM Layer)\n",
        "model.add(Dropout(0.2))# A dropout layer)\n",
        "model.add(LSTM(100))# Another LSTM Layer)\n",
        "model.add(Dense(total_words/2, activation='relu', kernel_regularizer=regularizers.l2(0.01)))# A Dense Layer including regularizers)\n",
        "model.add(Dense(total_words, activation='softmax'))# A Dense Layer)\n",
        "# Pick an optimizer\n",
        "model.compile(loss='categorical_crossentropy', optimizer='adam', metrics=['accuracy'])# Pick a loss function and an optimizer)\n",
        "### END CODE HERE\n",
        "\n",
        "print(model.summary())"
      ],
      "execution_count": 3,
      "outputs": [
        {
          "output_type": "stream",
          "name": "stdout",
          "text": [
            "Model: \"sequential\"\n",
            "_________________________________________________________________\n",
            " Layer (type)                Output Shape              Param #   \n",
            "=================================================================\n",
            " embedding (Embedding)       (None, 10, 100)           321100    \n",
            "                                                                 \n",
            " bidirectional (Bidirectiona  (None, 10, 300)          301200    \n",
            " l)                                                              \n",
            "                                                                 \n",
            " dropout (Dropout)           (None, 10, 300)           0         \n",
            "                                                                 \n",
            " lstm_1 (LSTM)               (None, 100)               160400    \n",
            "                                                                 \n",
            " dense (Dense)               (None, 1605)              162105    \n",
            "                                                                 \n",
            " dense_1 (Dense)             (None, 3211)              5156866   \n",
            "                                                                 \n",
            "=================================================================\n",
            "Total params: 6,101,671\n",
            "Trainable params: 6,101,671\n",
            "Non-trainable params: 0\n",
            "_________________________________________________________________\n",
            "None\n"
          ]
        }
      ]
    },
    {
      "cell_type": "code",
      "metadata": {
        "id": "AIg2f1HBxqof",
        "outputId": "d0528615-ab92-466c-d009-289c19123a64",
        "colab": {
          "base_uri": "https://localhost:8080/"
        }
      },
      "source": [
        " history = model.fit(predictors, label, epochs=100, verbose=1)"
      ],
      "execution_count": 4,
      "outputs": [
        {
          "output_type": "stream",
          "name": "stdout",
          "text": [
            "Epoch 1/100\n",
            "484/484 [==============================] - 24s 26ms/step - loss: 6.9136 - accuracy: 0.0215\n",
            "Epoch 2/100\n",
            "484/484 [==============================] - 12s 26ms/step - loss: 6.5043 - accuracy: 0.0231\n",
            "Epoch 3/100\n",
            "484/484 [==============================] - 13s 26ms/step - loss: 6.4022 - accuracy: 0.0254\n",
            "Epoch 4/100\n",
            "484/484 [==============================] - 12s 26ms/step - loss: 6.2846 - accuracy: 0.0329\n",
            "Epoch 5/100\n",
            "484/484 [==============================] - 13s 26ms/step - loss: 6.1780 - accuracy: 0.0365\n",
            "Epoch 6/100\n",
            "484/484 [==============================] - 13s 26ms/step - loss: 6.0938 - accuracy: 0.0393\n",
            "Epoch 7/100\n",
            "484/484 [==============================] - 13s 26ms/step - loss: 6.0102 - accuracy: 0.0411\n",
            "Epoch 8/100\n",
            "484/484 [==============================] - 12s 26ms/step - loss: 5.9100 - accuracy: 0.0453\n",
            "Epoch 9/100\n",
            "484/484 [==============================] - 13s 26ms/step - loss: 5.8062 - accuracy: 0.0517\n",
            "Epoch 10/100\n",
            "484/484 [==============================] - 12s 26ms/step - loss: 5.6919 - accuracy: 0.0578\n",
            "Epoch 11/100\n",
            "484/484 [==============================] - 13s 26ms/step - loss: 5.5781 - accuracy: 0.0638\n",
            "Epoch 12/100\n",
            "484/484 [==============================] - 13s 26ms/step - loss: 5.4682 - accuracy: 0.0706\n",
            "Epoch 13/100\n",
            "484/484 [==============================] - 12s 26ms/step - loss: 5.3580 - accuracy: 0.0778\n",
            "Epoch 14/100\n",
            "484/484 [==============================] - 12s 26ms/step - loss: 5.2457 - accuracy: 0.0849\n",
            "Epoch 15/100\n",
            "484/484 [==============================] - 13s 26ms/step - loss: 5.1396 - accuracy: 0.0940\n",
            "Epoch 16/100\n",
            "484/484 [==============================] - 13s 26ms/step - loss: 5.0263 - accuracy: 0.1001\n",
            "Epoch 17/100\n",
            "484/484 [==============================] - 12s 26ms/step - loss: 4.9202 - accuracy: 0.1084\n",
            "Epoch 18/100\n",
            "484/484 [==============================] - 12s 26ms/step - loss: 4.8155 - accuracy: 0.1157\n",
            "Epoch 19/100\n",
            "484/484 [==============================] - 12s 26ms/step - loss: 4.7077 - accuracy: 0.1264\n",
            "Epoch 20/100\n",
            "484/484 [==============================] - 13s 26ms/step - loss: 4.5962 - accuracy: 0.1366\n",
            "Epoch 21/100\n",
            "484/484 [==============================] - 12s 26ms/step - loss: 4.4964 - accuracy: 0.1444\n",
            "Epoch 22/100\n",
            "484/484 [==============================] - 12s 26ms/step - loss: 4.3921 - accuracy: 0.1570\n",
            "Epoch 23/100\n",
            "484/484 [==============================] - 12s 26ms/step - loss: 4.2806 - accuracy: 0.1692\n",
            "Epoch 24/100\n",
            "484/484 [==============================] - 12s 26ms/step - loss: 4.1741 - accuracy: 0.1843\n",
            "Epoch 25/100\n",
            "484/484 [==============================] - 12s 26ms/step - loss: 4.0693 - accuracy: 0.1941\n",
            "Epoch 26/100\n",
            "484/484 [==============================] - 13s 26ms/step - loss: 3.9634 - accuracy: 0.2119\n",
            "Epoch 27/100\n",
            "484/484 [==============================] - 12s 26ms/step - loss: 3.8603 - accuracy: 0.2211\n",
            "Epoch 28/100\n",
            "484/484 [==============================] - 12s 26ms/step - loss: 3.7575 - accuracy: 0.2448\n",
            "Epoch 29/100\n",
            "484/484 [==============================] - 12s 26ms/step - loss: 3.6673 - accuracy: 0.2632\n",
            "Epoch 30/100\n",
            "484/484 [==============================] - 13s 26ms/step - loss: 3.5717 - accuracy: 0.2804\n",
            "Epoch 31/100\n",
            "484/484 [==============================] - 12s 26ms/step - loss: 3.4767 - accuracy: 0.3024\n",
            "Epoch 32/100\n",
            "484/484 [==============================] - 13s 26ms/step - loss: 3.3944 - accuracy: 0.3208\n",
            "Epoch 33/100\n",
            "484/484 [==============================] - 12s 26ms/step - loss: 3.2982 - accuracy: 0.3434\n",
            "Epoch 34/100\n",
            "484/484 [==============================] - 12s 26ms/step - loss: 3.2261 - accuracy: 0.3606\n",
            "Epoch 35/100\n",
            "484/484 [==============================] - 13s 26ms/step - loss: 3.1363 - accuracy: 0.3791\n",
            "Epoch 36/100\n",
            "484/484 [==============================] - 12s 26ms/step - loss: 3.0602 - accuracy: 0.3970\n",
            "Epoch 37/100\n",
            "484/484 [==============================] - 12s 26ms/step - loss: 2.9780 - accuracy: 0.4161\n",
            "Epoch 38/100\n",
            "484/484 [==============================] - 13s 26ms/step - loss: 2.9096 - accuracy: 0.4318\n",
            "Epoch 39/100\n",
            "484/484 [==============================] - 12s 26ms/step - loss: 2.8465 - accuracy: 0.4439\n",
            "Epoch 40/100\n",
            "484/484 [==============================] - 12s 26ms/step - loss: 2.7764 - accuracy: 0.4589\n",
            "Epoch 41/100\n",
            "484/484 [==============================] - 12s 26ms/step - loss: 2.7027 - accuracy: 0.4782\n",
            "Epoch 42/100\n",
            "484/484 [==============================] - 13s 26ms/step - loss: 2.6438 - accuracy: 0.4880\n",
            "Epoch 43/100\n",
            "484/484 [==============================] - 13s 26ms/step - loss: 2.5914 - accuracy: 0.5070\n",
            "Epoch 44/100\n",
            "484/484 [==============================] - 12s 26ms/step - loss: 2.5286 - accuracy: 0.5173\n",
            "Epoch 45/100\n",
            "484/484 [==============================] - 12s 26ms/step - loss: 2.4740 - accuracy: 0.5250\n",
            "Epoch 46/100\n",
            "484/484 [==============================] - 13s 26ms/step - loss: 2.4284 - accuracy: 0.5433\n",
            "Epoch 47/100\n",
            "484/484 [==============================] - 12s 26ms/step - loss: 2.3695 - accuracy: 0.5549\n",
            "Epoch 48/100\n",
            "484/484 [==============================] - 12s 26ms/step - loss: 2.3210 - accuracy: 0.5672\n",
            "Epoch 49/100\n",
            "484/484 [==============================] - 12s 26ms/step - loss: 2.2614 - accuracy: 0.5788\n",
            "Epoch 50/100\n",
            "484/484 [==============================] - 13s 26ms/step - loss: 2.2234 - accuracy: 0.5850\n",
            "Epoch 51/100\n",
            "484/484 [==============================] - 12s 26ms/step - loss: 2.1770 - accuracy: 0.5960\n",
            "Epoch 52/100\n",
            "484/484 [==============================] - 12s 26ms/step - loss: 2.1348 - accuracy: 0.6092\n",
            "Epoch 53/100\n",
            "484/484 [==============================] - 12s 26ms/step - loss: 2.0894 - accuracy: 0.6156\n",
            "Epoch 54/100\n",
            "484/484 [==============================] - 13s 26ms/step - loss: 2.0464 - accuracy: 0.6275\n",
            "Epoch 55/100\n",
            "484/484 [==============================] - 12s 26ms/step - loss: 2.0042 - accuracy: 0.6392\n",
            "Epoch 56/100\n",
            "484/484 [==============================] - 13s 26ms/step - loss: 1.9645 - accuracy: 0.6458\n",
            "Epoch 57/100\n",
            "484/484 [==============================] - 12s 26ms/step - loss: 1.9332 - accuracy: 0.6523\n",
            "Epoch 58/100\n",
            "484/484 [==============================] - 13s 26ms/step - loss: 1.9008 - accuracy: 0.6562\n",
            "Epoch 59/100\n",
            "484/484 [==============================] - 13s 26ms/step - loss: 1.8665 - accuracy: 0.6630\n",
            "Epoch 60/100\n",
            "484/484 [==============================] - 13s 26ms/step - loss: 1.8390 - accuracy: 0.6720\n",
            "Epoch 61/100\n",
            "484/484 [==============================] - 12s 26ms/step - loss: 1.7930 - accuracy: 0.6818\n",
            "Epoch 62/100\n",
            "484/484 [==============================] - 12s 26ms/step - loss: 1.7776 - accuracy: 0.6843\n",
            "Epoch 63/100\n",
            "484/484 [==============================] - 13s 26ms/step - loss: 1.7319 - accuracy: 0.6945\n",
            "Epoch 64/100\n",
            "484/484 [==============================] - 13s 26ms/step - loss: 1.7127 - accuracy: 0.7007\n",
            "Epoch 65/100\n",
            "484/484 [==============================] - 13s 26ms/step - loss: 1.6746 - accuracy: 0.7081\n",
            "Epoch 66/100\n",
            "484/484 [==============================] - 13s 26ms/step - loss: 1.6579 - accuracy: 0.7104\n",
            "Epoch 67/100\n",
            "484/484 [==============================] - 13s 26ms/step - loss: 1.6407 - accuracy: 0.7138\n",
            "Epoch 68/100\n",
            "484/484 [==============================] - 13s 26ms/step - loss: 1.6060 - accuracy: 0.7179\n",
            "Epoch 69/100\n",
            "484/484 [==============================] - 13s 26ms/step - loss: 1.5769 - accuracy: 0.7258\n",
            "Epoch 70/100\n",
            "484/484 [==============================] - 13s 26ms/step - loss: 1.5672 - accuracy: 0.7264\n",
            "Epoch 71/100\n",
            "484/484 [==============================] - 13s 26ms/step - loss: 1.5332 - accuracy: 0.7361\n",
            "Epoch 72/100\n",
            "484/484 [==============================] - 13s 26ms/step - loss: 1.5227 - accuracy: 0.7342\n",
            "Epoch 73/100\n",
            "484/484 [==============================] - 12s 26ms/step - loss: 1.5017 - accuracy: 0.7441\n",
            "Epoch 74/100\n",
            "484/484 [==============================] - 12s 26ms/step - loss: 1.4903 - accuracy: 0.7429\n",
            "Epoch 75/100\n",
            "484/484 [==============================] - 13s 26ms/step - loss: 1.4543 - accuracy: 0.7494\n",
            "Epoch 76/100\n",
            "484/484 [==============================] - 13s 26ms/step - loss: 1.4303 - accuracy: 0.7563\n",
            "Epoch 77/100\n",
            "484/484 [==============================] - 13s 26ms/step - loss: 1.4141 - accuracy: 0.7586\n",
            "Epoch 78/100\n",
            "484/484 [==============================] - 13s 26ms/step - loss: 1.4121 - accuracy: 0.7560\n",
            "Epoch 79/100\n",
            "484/484 [==============================] - 13s 26ms/step - loss: 1.3822 - accuracy: 0.7646\n",
            "Epoch 80/100\n",
            "484/484 [==============================] - 13s 26ms/step - loss: 1.3659 - accuracy: 0.7662\n",
            "Epoch 81/100\n",
            "484/484 [==============================] - 12s 26ms/step - loss: 1.3557 - accuracy: 0.7667\n",
            "Epoch 82/100\n",
            "484/484 [==============================] - 13s 26ms/step - loss: 1.3322 - accuracy: 0.7681\n",
            "Epoch 83/100\n",
            "484/484 [==============================] - 13s 26ms/step - loss: 1.3219 - accuracy: 0.7742\n",
            "Epoch 84/100\n",
            "484/484 [==============================] - 12s 26ms/step - loss: 1.3143 - accuracy: 0.7746\n",
            "Epoch 85/100\n",
            "484/484 [==============================] - 13s 26ms/step - loss: 1.2944 - accuracy: 0.7802\n",
            "Epoch 86/100\n",
            "484/484 [==============================] - 13s 26ms/step - loss: 1.2865 - accuracy: 0.7778\n",
            "Epoch 87/100\n",
            "484/484 [==============================] - 13s 26ms/step - loss: 1.2621 - accuracy: 0.7841\n",
            "Epoch 88/100\n",
            "484/484 [==============================] - 13s 26ms/step - loss: 1.2537 - accuracy: 0.7861\n",
            "Epoch 89/100\n",
            "484/484 [==============================] - 13s 26ms/step - loss: 1.2523 - accuracy: 0.7831\n",
            "Epoch 90/100\n",
            "484/484 [==============================] - 13s 26ms/step - loss: 1.2326 - accuracy: 0.7865\n",
            "Epoch 91/100\n",
            "484/484 [==============================] - 12s 26ms/step - loss: 1.2150 - accuracy: 0.7941\n",
            "Epoch 92/100\n",
            "484/484 [==============================] - 12s 26ms/step - loss: 1.2040 - accuracy: 0.7920\n",
            "Epoch 93/100\n",
            "484/484 [==============================] - 13s 26ms/step - loss: 1.1889 - accuracy: 0.7967\n",
            "Epoch 94/100\n",
            "484/484 [==============================] - 13s 26ms/step - loss: 1.1885 - accuracy: 0.7921\n",
            "Epoch 95/100\n",
            "484/484 [==============================] - 13s 26ms/step - loss: 1.1696 - accuracy: 0.7983\n",
            "Epoch 96/100\n",
            "484/484 [==============================] - 13s 26ms/step - loss: 1.1597 - accuracy: 0.8000\n",
            "Epoch 97/100\n",
            "484/484 [==============================] - 13s 26ms/step - loss: 1.1543 - accuracy: 0.8007\n",
            "Epoch 98/100\n",
            "484/484 [==============================] - 13s 26ms/step - loss: 1.1634 - accuracy: 0.7978\n",
            "Epoch 99/100\n",
            "484/484 [==============================] - 13s 26ms/step - loss: 1.1363 - accuracy: 0.8033\n",
            "Epoch 100/100\n",
            "484/484 [==============================] - 13s 26ms/step - loss: 1.1189 - accuracy: 0.8068\n"
          ]
        }
      ]
    },
    {
      "cell_type": "code",
      "metadata": {
        "id": "1fXTEO3GJ282",
        "outputId": "9cb105c8-e31f-4fc5-efde-e1818a6f70bd",
        "colab": {
          "base_uri": "https://localhost:8080/",
          "height": 545
        }
      },
      "source": [
        "import matplotlib.pyplot as plt\n",
        "acc = history.history['accuracy']\n",
        "loss = history.history['loss']\n",
        "\n",
        "epochs = range(len(acc))\n",
        "\n",
        "plt.plot(epochs, acc, 'b', label='Training accuracy')\n",
        "plt.title('Training accuracy')\n",
        "\n",
        "plt.figure()\n",
        "\n",
        "plt.plot(epochs, loss, 'b', label='Training Loss')\n",
        "plt.title('Training loss')\n",
        "plt.legend()\n",
        "\n",
        "plt.show()"
      ],
      "execution_count": 5,
      "outputs": [
        {
          "output_type": "display_data",
          "data": {
            "text/plain": [
              "<Figure size 432x288 with 1 Axes>"
            ],
            "image/png": "[encoded data removed]"
          },
          "metadata": {
            "needs_background": "light"
          }
        },
        {
          "output_type": "display_data",
          "data": {
            "text/plain": [
              "<Figure size 432x288 with 1 Axes>"
            ],
            "image/png": "[encoded data removed]"
          },
          "metadata": {
            "needs_background": "light"
          }
        }
      ]
    },
    {
      "cell_type": "code",
      "metadata": {
        "id": "6Vc6PHgxa6Hm"
      },
      "source": [
        "seed_text = \"Help me Obi Wan Kenobi, you're my only hope\"\n",
        "next_words = 100\n",
        "  \n",
        "for _ in range(next_words):\n",
        "\ttoken_list = tokenizer.texts_to_sequences([seed_text])[0]\n",
        "\ttoken_list = pad_sequences([token_list], maxlen=max_sequence_len-1, padding='pre')\n",
        "\tpredicted = model.predict_classes(token_list, verbose=0)\n",
        "\toutput_word = \"\"\n",
        "\tfor word, index in tokenizer.word_index.items():\n",
        "\t\tif index == predicted:\n",
        "\t\t\toutput_word = word\n",
        "\t\t\tbreak\n",
        "\tseed_text += \" \" + output_word\n",
        "print(seed_text)"
      ],
      "execution_count": null,
      "outputs": []
    }
  ]
}